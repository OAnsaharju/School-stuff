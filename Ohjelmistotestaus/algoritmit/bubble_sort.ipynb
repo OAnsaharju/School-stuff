{
 "cells": [
  {
   "cell_type": "code",
   "execution_count": 1,
   "metadata": {},
   "outputs": [
    {
     "name": "stdout",
     "output_type": "stream",
     "text": [
      "the sorted version of data is:  [-1, 1, 2, 3, 4, 4, 7, 33, 35, 60]\n"
     ]
    }
   ],
   "source": [
    "def bubble_sort(arr):\n",
    "    \n",
    "    # loop to access each array element\n",
    "    for i in range(len(arr)):\n",
    "\n",
    "        #loop to compare array elements\n",
    "        for j in range(0, len(arr) - i -1):\n",
    "\n",
    "            #compare two adjacent elements\n",
    "            #change > to < to sort in descending order\n",
    "            if arr[j] > arr[j + 1]:\n",
    "\n",
    "                #swap elements if elements are not in the intended order\n",
    "\n",
    "                temp = arr[j]\n",
    "                arr[j] = arr[j+1]\n",
    "                arr[j+1] = temp\n",
    "\n",
    "\n",
    "\n",
    "# The idea of Bubblesort is that the largest number is being bubbled at the desired end position of the list.\n",
    "# Time complexity is O(n) for the amount of iterations is strictly tied to the size of the list. No recursion or temporary slicing to smaller partitions.\n",
    "\n",
    "data = [3, 4, 4, -1, 7, 33, 60, 35, 2, 1]\n",
    "\n",
    "bubble_sort(data)\n",
    "\n",
    "print(\"the sorted version of data is: \", data)"
   ]
  }
 ],
 "metadata": {
  "kernelspec": {
   "display_name": "Python 3",
   "language": "python",
   "name": "python3"
  },
  "language_info": {
   "codemirror_mode": {
    "name": "ipython",
    "version": 3
   },
   "file_extension": ".py",
   "mimetype": "text/x-python",
   "name": "python",
   "nbconvert_exporter": "python",
   "pygments_lexer": "ipython3",
   "version": "3.10.2"
  }
 },
 "nbformat": 4,
 "nbformat_minor": 2
}
