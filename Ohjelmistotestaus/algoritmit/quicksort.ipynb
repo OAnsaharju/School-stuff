{
 "cells": [
  {
   "cell_type": "code",
   "execution_count": 1,
   "metadata": {},
   "outputs": [
    {
     "name": "stdout",
     "output_type": "stream",
     "text": [
      "Sorted array is: [11, 12, 22, 25, 34, 64, 90]\n"
     ]
    }
   ],
   "source": [
    "def quicksort(arr):\n",
    "    # Base case: arrays with 0 or 1 element are already sorted\n",
    "    if len(arr) <= 1:\n",
    "        return arr\n",
    "    \n",
    "    # Choose the pivot (we'll use the last element as pivot for simplicity)\n",
    "    pivot = arr[-1]\n",
    "    \n",
    "    # Partitioning step\n",
    "    left = [x for x in arr[:-1] if x <= pivot]  # elements less than or equal to pivot\n",
    "    right = [x for x in arr[:-1] if x > pivot]  # elements greater than pivot\n",
    "    \n",
    "    \n",
    "\n",
    "    # About recursion.. the idea is that the function calls itself and sorts these subsets created by the quicksort algorithms pivot value,\n",
    "    # so the left and right partitions keep getting smaller and smaller each iteration until the subset size is <=1. Here we have determined\n",
    "    # at the start of the function that every array that is 0 or 1 in length is already sorted so the recursive behavior ends when all the subsets are \n",
    "    # smaller than 2. Right now the pivot value is the last element of given array but it can be randomized element, the first element, the middle element\n",
    "    # or the median of the first, middle, and last elements.\n",
    "\n",
    "\n",
    "    # Time complexity is average of O(log n) but it can theoretically be O(n^2) if the pivot is the smallest or biggest element repeatedly.\n",
    "\n",
    "    # Space complexity is O(log n) due to recursive stack space.\n",
    "\n",
    "    # Recursively sort left and right partitions, and combine with pivot\n",
    "    return quicksort(left) + [pivot] + quicksort(right)\n",
    "\n",
    "# Example usage\n",
    "arr = [64, 34, 25, 12, 22, 11, 90]\n",
    "sorted_arr = quicksort(arr)\n",
    "print(\"Sorted array is:\", sorted_arr)"
   ]
  }
 ],
 "metadata": {
  "kernelspec": {
   "display_name": "Python 3",
   "language": "python",
   "name": "python3"
  },
  "language_info": {
   "codemirror_mode": {
    "name": "ipython",
    "version": 3
   },
   "file_extension": ".py",
   "mimetype": "text/x-python",
   "name": "python",
   "nbconvert_exporter": "python",
   "pygments_lexer": "ipython3",
   "version": "3.10.2"
  }
 },
 "nbformat": 4,
 "nbformat_minor": 2
}
