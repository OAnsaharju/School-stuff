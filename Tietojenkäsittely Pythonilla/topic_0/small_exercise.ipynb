{
 "cells": [
  {
   "cell_type": "code",
   "execution_count": 11,
   "metadata": {},
   "outputs": [
    {
     "name": "stdout",
     "output_type": "stream",
     "text": [
      "[24.69135802 29.05475207 18.73048907 20.76124567 37.45201461 32.32653061\n",
      " 20.22160665 32.03125    19.95728441 22.05805119]\n"
     ]
    }
   ],
   "source": [
    "import numpy as np\n",
    "\n",
    "weights = [80, 90, 45, 60, 120, 99, 73, 82, 57, 63]\n",
    "heights = [180, 176, 155, 170, 179, 175, 190, 160, 169, 169]\n",
    "\n",
    "np_weights = np.array(weights)\n",
    "np_heights = np.array(heights)\n",
    "\n",
    "\n",
    "bmi = np_weights/np_heights/np_heights*10000\n",
    "\n",
    "print(bmi)"
   ]
  },
  {
   "cell_type": "markdown",
   "metadata": {},
   "source": [
    "\n",
    "\n",
    " $$ BIM = \\frac{weight (kg)}{height (m)^2}\n",
    "\n"
   ]
  }
 ],
 "metadata": {
  "kernelspec": {
   "display_name": "Python 3",
   "language": "python",
   "name": "python3"
  },
  "language_info": {
   "codemirror_mode": {
    "name": "ipython",
    "version": 3
   },
   "file_extension": ".py",
   "mimetype": "text/x-python",
   "name": "python",
   "nbconvert_exporter": "python",
   "pygments_lexer": "ipython3",
   "version": "3.10.2"
  }
 },
 "nbformat": 4,
 "nbformat_minor": 2
}
