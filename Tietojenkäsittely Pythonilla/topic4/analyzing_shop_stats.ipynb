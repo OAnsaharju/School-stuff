{
 "cells": [
  {
   "cell_type": "code",
   "execution_count": 85,
   "metadata": {},
   "outputs": [],
   "source": [
    "import numpy as np\n",
    "import pandas as pd\n",
    "import matplotlib.pyplot as plt\n",
    "import seaborn as sns\n",
    "\n",
    "%matplotlib inline"
   ]
  },
  {
   "cell_type": "code",
   "execution_count": 86,
   "metadata": {},
   "outputs": [],
   "source": [
    "df = pd.read_excel('ShopSatisfactionSurveyData.xlsx')"
   ]
  },
  {
   "cell_type": "code",
   "execution_count": 87,
   "metadata": {},
   "outputs": [],
   "source": [
    "df.columns = ['H', 'gender', 'age', 'family_size', 'house', 'education', 'net_income', 'purchases', 'sat_product_range', 'sat_price_level']\n"
   ]
  },
  {
   "cell_type": "code",
   "execution_count": null,
   "metadata": {},
   "outputs": [],
   "source": [
    "df.head()"
   ]
  },
  {
   "cell_type": "code",
   "execution_count": null,
   "metadata": {},
   "outputs": [],
   "source": [
    "df_house = pd.crosstab(df[\"house\"], \"Count\")\n",
    "df_house.index=[\"Own apartment\", \"Rental apartment\", \"Employy housing\"]\n",
    "df_house.columns.name=''\n",
    "df_house"
   ]
  },
  {
   "cell_type": "code",
   "execution_count": null,
   "metadata": {},
   "outputs": [],
   "source": [
    "df_house = pd.crosstab(df[\"house\"], \"Count\")\n",
    "df_house[\"%\"] = df_house[\"Count\"] / df_house[\"Count\"].sum() * 100\n",
    "df_house.index=[\"Own apartment\", \"Rental apartment\", \"Employy housing\"]\n",
    "df_house.columns.name=''\n",
    "df_house\n",
    "\n"
   ]
  },
  {
   "cell_type": "code",
   "execution_count": null,
   "metadata": {},
   "outputs": [],
   "source": [
    "df_house.plot.bar(zorder = 2)\n",
    "\n",
    "plt.title('Apartment type distribution')\n",
    "\n",
    "plt.xlabel('Count and % , n = ' + str(df_house['Count'].sum()))\n",
    "\n",
    "plt.grid(axis = 'x')\n",
    "plt.tick_params(axis = 'y', length = 0)"
   ]
  },
  {
   "cell_type": "code",
   "execution_count": null,
   "metadata": {},
   "outputs": [],
   "source": [
    "df_education = pd.crosstab(df['education'], 'Count')\n",
    "df_education['%'] = df_education['Count'] / df_education['Count'].sum() * 100\n",
    "df_education.index = ['Primary school', 'Vocational school or similar', 'Secondary school graduate', 'Applied science university', 'Other university']\n",
    "df_education.columns.name = ''\n",
    "df_education"
   ]
  },
  {
   "cell_type": "code",
   "execution_count": null,
   "metadata": {},
   "outputs": [],
   "source": [
    "df_education.plot.pie(subplots=True, figsize=(20, 20))\n",
    "\n",
    "plt.title(\"Type of education distribution\")\n"
   ]
  },
  {
   "cell_type": "code",
   "execution_count": null,
   "metadata": {},
   "outputs": [],
   "source": [
    "df_gender = pd.crosstab(df[\"gender\"], \"Count\")\n",
    "df_gender[\"%\"] = df_gender[\"Count\"] / df_gender[\"Count\"].sum() * 100\n",
    "df_gender.index=[\"Female\", \"Male\"]\n",
    "df_gender.columns.name=''\n",
    "df_gender"
   ]
  },
  {
   "cell_type": "code",
   "execution_count": null,
   "metadata": {},
   "outputs": [],
   "source": [
    "df_gender.plot.bar(zorder = 2)\n",
    "\n",
    "plt.title('Gender distribution')\n",
    "\n",
    "plt.xlabel('Count and % , n = ' + str(df_gender['Count'].sum()))\n",
    "\n",
    "plt.grid(axis = 'x')\n",
    "plt.tick_params(axis = 'y', length = 0)"
   ]
  },
  {
   "cell_type": "code",
   "execution_count": null,
   "metadata": {},
   "outputs": [],
   "source": [
    "df_purchases = pd.crosstab(df[\"purchases\"], \"Count\")\n",
    "df_purchases[\"%\"] = df_purchases[\"Count\"] / df_purchases[\"Count\"].sum() * 100\n",
    "df_purchases.index=[\"Less than 250€\", \"250 - 499€\", \"500 - 749€\", \"750 - 999€\", \"More than 1000€\"]\n",
    "df_purchases.columns.name=''\n",
    "df_purchases"
   ]
  },
  {
   "cell_type": "code",
   "execution_count": null,
   "metadata": {},
   "outputs": [],
   "source": [
    "df_purchases.plot.bar(zorder = 2)\n",
    "\n",
    "plt.title('Distribution in amount of purchases')\n",
    "\n",
    "plt.xlabel('Count and % , n = ' + str(df_purchases['Count'].sum()))\n",
    "\n",
    "plt.grid(axis = 'x')\n",
    "plt.tick_params(axis = 'y', length = 0)"
   ]
  }
 ],
 "metadata": {
  "kernelspec": {
   "display_name": "Python 3",
   "language": "python",
   "name": "python3"
  },
  "language_info": {
   "codemirror_mode": {
    "name": "ipython",
    "version": 3
   },
   "file_extension": ".py",
   "mimetype": "text/x-python",
   "name": "python",
   "nbconvert_exporter": "python",
   "pygments_lexer": "ipython3",
   "version": "3.10.2"
  }
 },
 "nbformat": 4,
 "nbformat_minor": 2
}
